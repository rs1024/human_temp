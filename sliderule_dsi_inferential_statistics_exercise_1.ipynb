{
 "cells": [
  {
   "cell_type": "markdown",
   "metadata": {},
   "source": [
    "# What is the True Normal Human Body Temperature? \n",
    "\n",
    "#### Background\n",
    "\n",
    "The mean normal body temperature was held to be 37$^{\\circ}$C or 98.6$^{\\circ}$F for more than 120 years since it was first conceptualized and reported by Carl Wunderlich in a famous 1868 book. But, is this value statistically correct?"
   ]
  },
  {
   "cell_type": "markdown",
   "metadata": {},
   "source": [
    "<div class=\"span5 alert alert-info\">\n",
    "<h3>Exercises</h3>\n",
    "\n",
    "<p>In this exercise, you will analyze a dataset of human body temperatures and employ the concepts of hypothesis testing, confidence intervals, and statistical significance.</p>\n",
    "\n",
    "<p>Answer the following questions <b>in this notebook below and submit to your Github account</b>.</p> \n",
    "\n",
    "<ol>\n",
    "<li>  Is the distribution of body temperatures normal? \n",
    "    <ul>\n",
    "    <li> Although this is not a requirement for CLT to hold (read CLT carefully), it gives us some peace of mind that the population may also be normally distributed if we assume that this sample is representative of the population.\n",
    "    </ul>\n",
    "<li>  Is the sample size large? Are the observations independent?\n",
    "    <ul>\n",
    "    <li> Remember that this is a condition for the CLT, and hence the statistical tests we are using, to apply.\n",
    "    </ul>\n",
    "<li>  Is the true population mean really 98.6 degrees F?\n",
    "    <ul>\n",
    "    <li> Would you use a one-sample or two-sample test? Why?\n",
    "    <li> In this situation, is it appropriate to use the $t$ or $z$ statistic? \n",
    "    <li> Now try using the other test. How is the result be different? Why?\n",
    "    </ul>\n",
    "<li>  At what temperature should we consider someone's temperature to be \"abnormal\"?\n",
    "    <ul>\n",
    "    <li> Start by computing the margin of error and confidence interval.\n",
    "    </ul>\n",
    "<li>  Is there a significant difference between males and females in normal temperature?\n",
    "    <ul>\n",
    "    <li> What test did you use and why?\n",
    "    <li> Write a story with your conclusion in the context of the original problem.\n",
    "    </ul>\n",
    "</ol>\n",
    "\n",
    "You can include written notes in notebook cells using Markdown: \n",
    "   - In the control panel at the top, choose Cell > Cell Type > Markdown\n",
    "   - Markdown syntax: http://nestacms.com/docs/creating-content/markdown-cheat-sheet\n",
    "\n",
    "#### Resources\n",
    "\n",
    "+ Information and data sources: http://www.amstat.org/publications/jse/datasets/normtemp.txt, http://www.amstat.org/publications/jse/jse_data_archive.htm\n",
    "+ Markdown syntax: http://nestacms.com/docs/creating-content/markdown-cheat-sheet\n",
    "\n",
    "****\n",
    "</div>"
   ]
  },
  {
   "cell_type": "code",
   "execution_count": 1,
   "metadata": {
    "collapsed": true
   },
   "outputs": [],
   "source": [
    "%matplotlib inline\n",
    "import pandas as pd\n",
    "import matplotlib.pyplot as plt\n",
    "import numpy as np\n",
    "import seaborn as sns\n",
    "import scipy.stats as stats\n",
    "\n",
    "df = pd.read_csv('data/human_body_temperature.csv')"
   ]
  },
  {
   "cell_type": "code",
   "execution_count": 2,
   "metadata": {
    "collapsed": false
   },
   "outputs": [
    {
     "data": {
      "text/html": [
       "<div>\n",
       "<table border=\"1\" class=\"dataframe\">\n",
       "  <thead>\n",
       "    <tr style=\"text-align: right;\">\n",
       "      <th></th>\n",
       "      <th>temperature</th>\n",
       "      <th>gender</th>\n",
       "      <th>heart_rate</th>\n",
       "    </tr>\n",
       "  </thead>\n",
       "  <tbody>\n",
       "    <tr>\n",
       "      <th>0</th>\n",
       "      <td>99.3</td>\n",
       "      <td>F</td>\n",
       "      <td>68.0</td>\n",
       "    </tr>\n",
       "    <tr>\n",
       "      <th>1</th>\n",
       "      <td>98.4</td>\n",
       "      <td>F</td>\n",
       "      <td>81.0</td>\n",
       "    </tr>\n",
       "    <tr>\n",
       "      <th>2</th>\n",
       "      <td>97.8</td>\n",
       "      <td>M</td>\n",
       "      <td>73.0</td>\n",
       "    </tr>\n",
       "    <tr>\n",
       "      <th>3</th>\n",
       "      <td>99.2</td>\n",
       "      <td>F</td>\n",
       "      <td>66.0</td>\n",
       "    </tr>\n",
       "    <tr>\n",
       "      <th>4</th>\n",
       "      <td>98.0</td>\n",
       "      <td>F</td>\n",
       "      <td>73.0</td>\n",
       "    </tr>\n",
       "  </tbody>\n",
       "</table>\n",
       "</div>"
      ],
      "text/plain": [
       "   temperature gender  heart_rate\n",
       "0         99.3      F        68.0\n",
       "1         98.4      F        81.0\n",
       "2         97.8      M        73.0\n",
       "3         99.2      F        66.0\n",
       "4         98.0      F        73.0"
      ]
     },
     "execution_count": 2,
     "metadata": {},
     "output_type": "execute_result"
    }
   ],
   "source": [
    "# Investigate dataset\n",
    "df.head()"
   ]
  },
  {
   "cell_type": "markdown",
   "metadata": {},
   "source": [
    "## #1 "
   ]
  },
  {
   "cell_type": "code",
   "execution_count": 3,
   "metadata": {
    "collapsed": false
   },
   "outputs": [
    {
     "data": {
      "image/png": "[encoded data removed]",
      "text/plain": [
       "<matplotlib.figure.Figure at 0x2a4fe4c8e80>"
      ]
     },
     "metadata": {},
     "output_type": "display_data"
    }
   ],
   "source": [
    "df.groupby('temperature').size().plot(kind='bar')\n",
    "plt.title('Distribution of body temps for all genders')\n",
    "plt.ylabel('Count')\n",
    "plt.xlabel('Temperature')\n",
    "None"
   ]
  },
  {
   "cell_type": "code",
   "execution_count": 4,
   "metadata": {
    "collapsed": false
   },
   "outputs": [
    {
     "data": {
      "image/png": "[encoded data removed]",
      "text/plain": [
       "<matplotlib.figure.Figure at 0x2a4fe988470>"
      ]
     },
     "metadata": {},
     "output_type": "display_data"
    }
   ],
   "source": [
    "df[df.gender=='M'].groupby('temperature').size().plot(kind='bar')\n",
    "plt.title('Distribution of body temps for males')\n",
    "plt.ylabel('Count')\n",
    "plt.xlabel('Temperature')\n",
    "None"
   ]
  },
  {
   "cell_type": "code",
   "execution_count": 5,
   "metadata": {
    "collapsed": false
   },
   "outputs": [
    {
     "data": {
      "image/png": "[encoded data removed]",
      "text/plain": [
       "<matplotlib.figure.Figure at 0x2a4febf63c8>"
      ]
     },
     "metadata": {},
     "output_type": "display_data"
    }
   ],
   "source": [
    "df[df.gender=='F'].groupby('temperature').size().plot(kind='bar')\n",
    "plt.title('Distribution of body temps for females')\n",
    "plt.ylabel('Count')\n",
    "plt.xlabel('Temperature')\n",
    "None"
   ]
  },
  {
   "cell_type": "code",
   "execution_count": 18,
   "metadata": {
    "collapsed": false
   },
   "outputs": [
    {
     "data": {
      "text/plain": [
       "NormaltestResult(statistic=2.7038014333192031, pvalue=0.2587479863488254)"
      ]
     },
     "execution_count": 18,
     "metadata": {},
     "output_type": "execute_result"
    }
   ],
   "source": [
    "stats.normaltest(df.temperature)"
   ]
  },
  {
   "cell_type": "markdown",
   "metadata": {},
   "source": [
    "The distribution of body temperatures is normally distributed as p > 5% and also visually confirmed through histograms."
   ]
  },
  {
   "cell_type": "markdown",
   "metadata": {
    "collapsed": true
   },
   "source": [
    "## #2"
   ]
  },
  {
   "cell_type": "code",
   "execution_count": 6,
   "metadata": {
    "collapsed": false
   },
   "outputs": [
    {
     "data": {
      "text/plain": [
       "130"
      ]
     },
     "execution_count": 6,
     "metadata": {},
     "output_type": "execute_result"
    }
   ],
   "source": [
    "df.temperature.count()"
   ]
  },
  {
   "cell_type": "markdown",
   "metadata": {
    "collapsed": true
   },
   "source": [
    "* The sample size is large as n = 130 > 30  \n",
    "\n",
    "\n",
    "* The observations are independent as each observation represents a separate human being"
   ]
  },
  {
   "cell_type": "markdown",
   "metadata": {
    "collapsed": true
   },
   "source": [
    "## #3\n",
    "\n",
    "H<sub>0</sub>: the mean temperature is 98.6&deg; F  \n",
    "H<sub>1</sub>: the mean temperature is **not** 98.6&deg; F"
   ]
  },
  {
   "cell_type": "code",
   "execution_count": 7,
   "metadata": {
    "collapsed": false
   },
   "outputs": [
    {
     "name": "stdout",
     "output_type": "stream",
     "text": [
      "# of males in sample: 65\n",
      "# of females in sample: 65\n"
     ]
    }
   ],
   "source": [
    "# See how many males and females are in the dataset\n",
    "print('# of males in sample: %i' % (df[df.gender=='M'].gender.count()))\n",
    "print('# of females in sample: %i' % (df[df.gender=='F'].gender.count()))"
   ]
  },
  {
   "cell_type": "code",
   "execution_count": 8,
   "metadata": {
    "collapsed": false
   },
   "outputs": [
    {
     "name": "stdout",
     "output_type": "stream",
     "text": [
      "Mean temp: 98.249231\n",
      "Mean temp of males: 98.104615\n",
      "Mean temp of females: 98.393846\n"
     ]
    }
   ],
   "source": [
    "# Means of dataset\n",
    "print('Mean temp: %f' % (df.temperature.mean()))\n",
    "print('Mean temp of males: %f' % (df[df.gender=='M'].temperature.mean()))\n",
    "print('Mean temp of females: %f' % (df[df.gender=='F'].temperature.mean()))"
   ]
  },
  {
   "cell_type": "code",
   "execution_count": 9,
   "metadata": {
    "collapsed": true
   },
   "outputs": [],
   "source": [
    "def RunModel(df):\n",
    "    # Resample via bootstrap. Preserves equal gender ratio\n",
    "    # Input a dataframe with n observations and return a numpy array with n randomly selected observations with replacement \n",
    "    data_males = np.random.choice(df[df.gender=='M'].temperature, len(df.temperature)/2, replace=True)\n",
    "    data_females = np.random.choice(df[df.gender=='F'].temperature, len(df.temperature)/2, replace=True)\n",
    "    data = np.append(data_males, data_females)\n",
    "    return data\n",
    "\n",
    "def TestStat(data):\n",
    "    # Returns the test stat which in this case is the mean\n",
    "    return data.mean()"
   ]
  },
  {
   "cell_type": "code",
   "execution_count": 10,
   "metadata": {
    "collapsed": false
   },
   "outputs": [
    {
     "name": "stderr",
     "output_type": "stream",
     "text": [
      "C:\\Users\\richa\\Anaconda3\\lib\\site-packages\\ipykernel\\__main__.py:4: VisibleDeprecationWarning: using a non-integer number instead of an integer will result in an error in the future\n",
      "C:\\Users\\richa\\Anaconda3\\lib\\site-packages\\ipykernel\\__main__.py:5: VisibleDeprecationWarning: using a non-integer number instead of an integer will result in an error in the future\n"
     ]
    }
   ],
   "source": [
    "# Simulate 1000 experiments\n",
    "# test_stats contains 1000 simulated sample means using bootstrapping as the resampling methodology\n",
    "test_stats = pd.DataFrame([TestStat(RunModel(df)) for i in range(1000)])\n",
    "test_stats.columns = ['temperature']"
   ]
  },
  {
   "cell_type": "code",
   "execution_count": 11,
   "metadata": {
    "collapsed": false
   },
   "outputs": [
    {
     "name": "stdout",
     "output_type": "stream",
     "text": [
      "Mean of 1000 simulated sample means: 98.250785\n",
      "95% confidence interval: [98.124995, 98.376576]\n"
     ]
    },
    {
     "data": {
      "image/png": "[encoded data removed]",
      "text/plain": [
       "<matplotlib.figure.Figure at 0x2a4fe616f28>"
      ]
     },
     "metadata": {},
     "output_type": "display_data"
    }
   ],
   "source": [
    "test_stats_mean = test_stats.temperature.mean()\n",
    "test_stats_std = test_stats.temperature.std()\n",
    "\n",
    "plt.vlines(test_stats_mean, 0, 150, linewidth=3, color=sns.xkcd_rgb['sea green'])\n",
    "plt.hist(test_stats.temperature, bins=20)\n",
    "plt.xlabel('Temperature')\n",
    "plt.ylabel('Count')\n",
    "plt.title('Distribution of 1000 simulated sample means')\n",
    "None\n",
    "\n",
    "print('Mean of 1000 simulated sample means: %f' % (test_stats_mean))\n",
    "print('95%% confidence interval: [%f, %f]' % (test_stats_mean - 2 * test_stats_std, test_stats_mean + 2 * test_stats_std))"
   ]
  },
  {
   "cell_type": "code",
   "execution_count": 12,
   "metadata": {
    "collapsed": false
   },
   "outputs": [
    {
     "name": "stdout",
     "output_type": "stream",
     "text": [
      "z score: 5.552312\n",
      "p value < 0.001\n"
     ]
    }
   ],
   "source": [
    "z_score = (98.6 - test_stats_mean) / test_stats_std\n",
    "print('z score: %f' % (z_score))\n",
    "print('p value < 0.001')"
   ]
  },
  {
   "cell_type": "markdown",
   "metadata": {
    "collapsed": true
   },
   "source": [
    "* The probability of seeing a result as extreme as 98.6&deg; is < 0.001. Thus, we reject the null and conclude that the mean human temperature is not 98.6&deg;. Instead, our 95% confidence interval is [98.13&deg;, 98.38&deg;].\n",
    "\n",
    "\n",
    "* I used a 1 sample test because our goal is to find the true mean of the human population, regardless of gender. Furthermore, there are an equal number of males and females in the data set. I have preserved this ratio during the resampling process.\n",
    "\n",
    "\n",
    "* In this situation, we use a z statistic because the sample size is large (n > 30).\n",
    "\n",
    "\n",
    "* If we use a T test, the probability of seeing 98.6&deg; is still < 0.001."
   ]
  },
  {
   "cell_type": "markdown",
   "metadata": {
    "collapsed": true
   },
   "source": [
    "## #4"
   ]
  },
  {
   "cell_type": "code",
   "execution_count": 13,
   "metadata": {
    "collapsed": false
   },
   "outputs": [
    {
     "name": "stdout",
     "output_type": "stream",
     "text": [
      "Mean of 1000 simulated sample means: 98.250785\n",
      "95% confidence interval: [98.124995, 98.376576]\n"
     ]
    }
   ],
   "source": [
    "print('Mean of 1000 simulated sample means: %f' % (test_stats_mean))\n",
    "print('95%% confidence interval: [%f, %f]' % (test_stats_mean - 2 * test_stats_std, test_stats_mean + 2 * test_stats_std))"
   ]
  },
  {
   "cell_type": "markdown",
   "metadata": {},
   "source": [
    "When a person's temperature is below 98.13&deg; F or above 98.38&deg; F, we would consider their temperature abnormal as it falls outside our 95% confidence interval, i.e. this individual's temperature is more extreme than 95% of the population."
   ]
  },
  {
   "cell_type": "markdown",
   "metadata": {},
   "source": [
    "## #5\n",
    "\n",
    "H<sub>0</sub>: there is no difference in mean temp between males and females, i.e. diff in means = 0  \n",
    "H<sub>1</sub>: there is a difference in mean temp between males and females\n",
    "\n",
    "Assumed significance level: 5%"
   ]
  },
  {
   "cell_type": "code",
   "execution_count": 14,
   "metadata": {
    "collapsed": false
   },
   "outputs": [],
   "source": [
    "def RunModel2(df):\n",
    "    # Resample via bootstrap. Keeps male and female populations separate\n",
    "    # Input a dataframe with n observations and return 2 numpy arrays \n",
    "    data_males = np.random.choice(df[df.gender=='M'].temperature, len(df.temperature)/2, replace=True)\n",
    "    data_females = np.random.choice(df[df.gender=='F'].temperature, len(df.temperature)/2, replace=True)\n",
    "    return data_males, data_females\n",
    "\n",
    "def TestStat2(data):\n",
    "    # Returns the test stat which in this case is the difference in means\n",
    "    data1, data2 = data\n",
    "    return abs(data1.mean()-data2.mean())"
   ]
  },
  {
   "cell_type": "code",
   "execution_count": 15,
   "metadata": {
    "collapsed": false
   },
   "outputs": [
    {
     "name": "stderr",
     "output_type": "stream",
     "text": [
      "C:\\Users\\richa\\Anaconda3\\lib\\site-packages\\ipykernel\\__main__.py:4: VisibleDeprecationWarning: using a non-integer number instead of an integer will result in an error in the future\n",
      "C:\\Users\\richa\\Anaconda3\\lib\\site-packages\\ipykernel\\__main__.py:5: VisibleDeprecationWarning: using a non-integer number instead of an integer will result in an error in the future\n"
     ]
    }
   ],
   "source": [
    "# Simulate 1000 experiments\n",
    "# test_stats2 contains 1000 simulated diff in sample means between males and femals using bootstrapping\n",
    "test_stats2 = pd.DataFrame([TestStat2(RunModel2(df)) for i in range(1000)])\n",
    "test_stats2.columns = ['temperature']"
   ]
  },
  {
   "cell_type": "code",
   "execution_count": 16,
   "metadata": {
    "collapsed": false
   },
   "outputs": [
    {
     "name": "stdout",
     "output_type": "stream",
     "text": [
      "Mean of 1000 simulated diff in sample means: 0.289752\n",
      "95% confidence interval: [0.040247, 0.539257]\n"
     ]
    },
    {
     "data": {
      "image/png": "[encoded data removed]",
      "text/plain": [
       "<matplotlib.figure.Figure at 0x2a4fec34eb8>"
      ]
     },
     "metadata": {},
     "output_type": "display_data"
    }
   ],
   "source": [
    "test_stats2_mean = test_stats2.temperature.mean()\n",
    "test_stats2_std = test_stats2.temperature.std()\n",
    "\n",
    "plt.vlines(test_stats2_mean, 0, 150, linewidth=3, color=sns.xkcd_rgb['sea green'])\n",
    "plt.hist(test_stats2.temperature, bins=20)\n",
    "plt.xlabel('Temperature')\n",
    "plt.ylabel('Count')\n",
    "plt.title('Distribution of 1000 simulated diff in sample means')\n",
    "None\n",
    "\n",
    "print('Mean of 1000 simulated diff in sample means: %f' % (test_stats2_mean))\n",
    "print('95%% confidence interval: [%f, %f]' % (test_stats2_mean - 2 * test_stats2_std, test_stats2_mean + 2 * test_stats2_std))"
   ]
  },
  {
   "cell_type": "code",
   "execution_count": 17,
   "metadata": {
    "collapsed": false
   },
   "outputs": [
    {
     "name": "stdout",
     "output_type": "stream",
     "text": [
      "z score: 2.322618\n",
      "p value: 0.020800\n"
     ]
    }
   ],
   "source": [
    "z_score2 = (test_stats2_mean - 0) / test_stats2_std\n",
    "p_value = 1 - ((0.9896 - 0.5) * 2)\n",
    "\n",
    "print('z score: %f' % (z_score2))\n",
    "print('p value: %f' % (p_value))"
   ]
  },
  {
   "cell_type": "markdown",
   "metadata": {},
   "source": [
    "Under the null, the probability of seeing a difference in mean temps between males and females as extreme as 0.29&deg; F is 2%, which is less than our selected significance level of 5% and also less than 3%.\n",
    "\n",
    "Thus, we reject the null and conclude that there is likely a difference in mean temps between males and females. On average, males have higher body temps than females. Our 95% confidence interval is above.\n",
    "\n",
    "Note that p is not less than 1%, so there is some chance the difference we are seeing could be due to chance. However, we have selected 5% for our significance level in this case."
   ]
  },
  {
   "cell_type": "code",
   "execution_count": null,
   "metadata": {
    "collapsed": true
   },
   "outputs": [],
   "source": []
  }
 ],
 "metadata": {
  "kernelspec": {
   "display_name": "Python 3",
   "language": "python",
   "name": "python3"
  },
  "language_info": {
   "codemirror_mode": {
    "name": "ipython",
    "version": 3
   },
   "file_extension": ".py",
   "mimetype": "text/x-python",
   "name": "python",
   "nbconvert_exporter": "python",
   "pygments_lexer": "ipython3",
   "version": "3.6.0"
  }
 },
 "nbformat": 4,
 "nbformat_minor": 0
}
